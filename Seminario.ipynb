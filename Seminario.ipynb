{
  "nbformat": 4,
  "nbformat_minor": 0,
  "metadata": {
    "colab": {
      "provenance": [],
      "include_colab_link": true
    },
    "kernelspec": {
      "name": "python3",
      "display_name": "Python 3"
    }
  },
  "cells": [
    {
      "cell_type": "markdown",
      "metadata": {
        "id": "view-in-github",
        "colab_type": "text"
      },
      "source": [
        "<a href=\"https://colab.research.google.com/github/drumalv/03MIAR---Algoritmos-de-Optimizazion/blob/main/Seminario.ipynb\" target=\"_parent\"><img src=\"https://colab.research.google.com/assets/colab-badge.svg\" alt=\"Open In Colab\"/></a>"
      ]
    },
    {
      "cell_type": "markdown",
      "metadata": {
        "id": "hVbXYX-RfPWh"
      },
      "source": [
        "# Algoritmos de optimización - Seminario<br>\n",
        "Nombre : Álvaro Beltrán\n",
        "\n",
        "Enlace : https://colab.research.google.com/drive/1l27duiSfQC-eHhzjGjGl-kJozmcr1qgY?usp=sharing\n",
        "\n",
        "Github : https://github.com/drumalv/03MIAR---Algoritmos-de-Optimizazion\n",
        "\n",
        "Problema:\n",
        "> 1. Sesiones de doblaje <br>\n",
        ">2. Organizar los horarios de partidos de La Liga<br>\n",
        ">3. **Combinar cifras y operaciones**\n",
        "\n",
        "Descripción del problema:\n",
        "* El problema consiste en analizar el siguiente problema y diseñar un algoritmo que lo resuelva.\n",
        "* Disponemos de las 9 cifras del 1 al 9 (excluimos el cero) y de los 4 signos básicos de las \n",
        "operaciones fundamentales: suma(+), resta(-), multiplicación(*) y división(/)\n",
        "* Debemos combinarlos alternativamente sin repetir ninguno de ellos para obtener una cantidad \n",
        "dada. Un ejemplo sería para obtener el 4: 4+2-6/3*1 = 4\n",
        "\n",
        "* Debe analizarse el problema para encontrar todos los valores enteros posibles planteando las \n",
        "siguientes cuestiones:\n",
        "  * ¿Qué valor máximo y mínimo se pueden obtener según las condiciones del problema?\n",
        "  * ¿Es posible encontrar todos los valores enteros posibles entre dicho mínimo y máximo ?\n",
        "* Nota: Es posible usar la función de python “eval” para evaluar una expresión:\n",
        "\n",
        "\n",
        "....\n",
        "\n",
        "**(*) La respuesta es obligatoria**\n",
        "\n",
        "\n",
        "\n",
        "\n",
        "\n",
        "                                        "
      ]
    },
    {
      "cell_type": "markdown",
      "source": [
        "Respuesta"
      ],
      "metadata": {
        "id": "7vb8BbjfViZQ"
      }
    },
    {
      "cell_type": "code",
      "source": [
        "import math as m\n",
        "import time"
      ],
      "metadata": {
        "id": "EfuO0dNKB_vk"
      },
      "execution_count": 24,
      "outputs": []
    },
    {
      "cell_type": "code",
      "source": [
        "\"\"\"\n",
        "Función para obtener las variaciones de un conjunto\n",
        "  - lst : lista de valores\n",
        "  - size: longitud de las variaciones de salida\n",
        "Si size es igual a len(lst) entonces devuelve las permutaciones\n",
        "\"\"\"\n",
        "def variaciones(lst, size):\n",
        "    if size == 0:\n",
        "        return [[]]\n",
        "    if len(lst) == 0:\n",
        "        return []\n",
        "    if len(lst) < size:\n",
        "        return []\n",
        "    if size == 1:\n",
        "        return [[i] for i in lst]\n",
        "    result = []\n",
        "    for i in range(len(lst)):\n",
        "        rem_list = lst[:i] + lst[i+1:]\n",
        "        for p in variaciones(rem_list, size-1):\n",
        "            result.append([lst[i]] + p)\n",
        "    return result"
      ],
      "metadata": {
        "id": "ZKLnqUbRUSfb"
      },
      "execution_count": 1,
      "outputs": []
    },
    {
      "cell_type": "code",
      "source": [
        "\"\"\"\n",
        "Devuelve una lista con los números posibles tras evaluar todas las variaciones \n",
        "posibles\n",
        "\"\"\"\n",
        "def comb_cifras_numeros_all():\n",
        "  lst =  ['1','2','3','4','5','6','7','8','9']\n",
        "  list_num = variaciones(lst, 5)\n",
        "  op =  ['*','-','+','/']\n",
        "  list_op = variaciones(op, 4)\n",
        "  list_num_posibles = []\n",
        "\n",
        "  for nums in list_num:\n",
        "    for ops in list_op:\n",
        "      sol = nums[0]+ops[0]+nums[1]+ops[1]+nums[2]+ops[2]+nums[3]+ops[3]+nums[4]\n",
        "      evaluacion = eval(sol)\n",
        "      if evaluacion not in list_num_posibles and evaluacion-int(evaluacion)==0:\n",
        "        list_num_posibles.append(evaluacion)\n",
        "\n",
        "  return sorted(list_num_posibles)"
      ],
      "metadata": {
        "id": "j3I2XgpxUWqA"
      },
      "execution_count": 6,
      "outputs": []
    },
    {
      "cell_type": "code",
      "source": [
        "list_num_posibles = comb_cifras_numeros_all()"
      ],
      "metadata": {
        "id": "LtfPe5fNUyza"
      },
      "execution_count": 4,
      "outputs": []
    },
    {
      "cell_type": "code",
      "source": [
        "print(f'El máximo valor posible es: {max(list_num_posibles)}')"
      ],
      "metadata": {
        "colab": {
          "base_uri": "https://localhost:8080/"
        },
        "id": "TL7dpRmUU7_r",
        "outputId": "e30f2096-5a72-468b-c23e-698eb1337110"
      },
      "execution_count": 5,
      "outputs": [
        {
          "output_type": "stream",
          "name": "stdout",
          "text": [
            "El máximo valor posible es: 77.0\n"
          ]
        }
      ]
    },
    {
      "cell_type": "code",
      "source": [
        "print(f'El mínimo valor posible es: {min(list_num_posibles)}')"
      ],
      "metadata": {
        "colab": {
          "base_uri": "https://localhost:8080/"
        },
        "id": "KkhhYAMDU_-n",
        "outputId": "53348896-66c5-41f6-cc35-1cfd3b4f7681"
      },
      "execution_count": 7,
      "outputs": [
        {
          "output_type": "stream",
          "name": "stdout",
          "text": [
            "El mínimo valor posible es: -69.0\n"
          ]
        }
      ]
    },
    {
      "cell_type": "code",
      "source": [
        "for i in range(int(min(list_num_posibles))+1,int(max(list_num_posibles))):\n",
        "  if i not in list_num_posibles:\n",
        "    print(f'No está {i}')\n"
      ],
      "metadata": {
        "id": "sU1qKIlKVBov"
      },
      "execution_count": 8,
      "outputs": []
    },
    {
      "cell_type": "markdown",
      "source": [
        "Están todos los números entre el mínimo y el máximo"
      ],
      "metadata": {
        "id": "oOYWpaMyVeAZ"
      }
    },
    {
      "cell_type": "markdown",
      "metadata": {
        "id": "3_-exlrTgLd-"
      },
      "source": [
        "**(*)¿Cuantas posibilidades hay sin tener en cuenta las restricciones?**<br>\n",
        "\n",
        "\n",
        "\n",
        "**¿Cuantas posibilidades hay teniendo en cuenta todas las restricciones.**\n",
        "\n",
        "\n"
      ]
    },
    {
      "cell_type": "markdown",
      "metadata": {
        "id": "WfCUqJyKhPcw"
      },
      "source": [
        "Respuesta"
      ]
    },
    {
      "cell_type": "markdown",
      "source": [
        "\n",
        "\n",
        "> Sin restricciones, entiendo que se refiere pudiendo repetir cifras y signos. Son variaciones con repetición de 9 elementos tomados en grupos de 5 y variaciones con repetición de 4 operadores tomados en grupos de 4. Es decir: $ncifras^5 * noperadores^4$. Ya que hay 5 huecos para los números y 4 huecos para los operadores.\n",
        "\n",
        "\n",
        "\n",
        "\n"
      ],
      "metadata": {
        "id": "i4a5fPq1CK8y"
      }
    },
    {
      "cell_type": "code",
      "metadata": {
        "id": "iq6Fe32MgpDX",
        "colab": {
          "base_uri": "https://localhost:8080/"
        },
        "outputId": "fccee7bf-d1ba-46c5-f93c-215ca0437468"
      },
      "source": [
        "(9**5) * (4**4) "
      ],
      "execution_count": 9,
      "outputs": [
        {
          "output_type": "execute_result",
          "data": {
            "text/plain": [
              "15116544"
            ]
          },
          "metadata": {},
          "execution_count": 9
        }
      ]
    },
    {
      "cell_type": "markdown",
      "source": [
        "> Con restricciones, pasan a ser variaciones sin repetición tomados en los mismos grupos que en la pregunta anterior."
      ],
      "metadata": {
        "id": "GSY3ynRFDqJs"
      }
    },
    {
      "cell_type": "code",
      "source": [
        "(m.factorial(9)/m.factorial(9-5)) * (m.factorial(4))"
      ],
      "metadata": {
        "colab": {
          "base_uri": "https://localhost:8080/"
        },
        "id": "CAp_L022Dsmu",
        "outputId": "e8ca7df2-7623-4a5e-adc5-6e8a6166bb19"
      },
      "execution_count": 10,
      "outputs": [
        {
          "output_type": "execute_result",
          "data": {
            "text/plain": [
              "362880.0"
            ]
          },
          "metadata": {},
          "execution_count": 10
        }
      ]
    },
    {
      "cell_type": "markdown",
      "metadata": {
        "id": "dzynfVJahHoY"
      },
      "source": [
        "**Modelo para el espacio de soluciones**<br>\n",
        "**(*) ¿Cual es la estructura de datos que mejor se adapta al problema? Argumentalo.(Es posible que hayas elegido una al principio y veas la necesidad de cambiar, arguentalo)**\n"
      ]
    },
    {
      "cell_type": "markdown",
      "metadata": {
        "id": "xFIJrOwKi2Ti"
      },
      "source": [
        "Respuesta"
      ]
    },
    {
      "cell_type": "markdown",
      "source": [
        "He elegido una cadena de caracteres, porque en cada iteración añadimos un único número del 1-9 (solo es un carácter) o un operador ('*','-','+','/'). Por tanto con una cadena de caracteres podemos representar la solución sin problemas."
      ],
      "metadata": {
        "id": "W1eWW6d-kzzE"
      }
    },
    {
      "cell_type": "markdown",
      "metadata": {
        "id": "7Z9U2W7bi-XS"
      },
      "source": [
        "**Según el modelo para el espacio de soluciones**<br>\n",
        "**(*)¿Cual es la función objetivo?**\n",
        "\n",
        "**(*)¿Es un problema de maximización o minimización?**"
      ]
    },
    {
      "cell_type": "markdown",
      "metadata": {
        "id": "hBalWLM7j1_d"
      },
      "source": [
        "Respuesta"
      ]
    },
    {
      "cell_type": "markdown",
      "source": [
        "En nuestro caso, no es un problema de optimización, si no de búsqueda. Por tanto, no tenemos función objetivo."
      ],
      "metadata": {
        "id": "KGmWeAUTElCy"
      }
    },
    {
      "cell_type": "markdown",
      "metadata": {
        "id": "rlnTYgY1j6I2"
      },
      "source": [
        "**Diseña un algoritmo para resolver el problema por fuerza bruta**"
      ]
    },
    {
      "cell_type": "markdown",
      "metadata": {
        "id": "70rDgxYXkC8r"
      },
      "source": [
        "Respuesta"
      ]
    },
    {
      "cell_type": "code",
      "source": [
        "\"\"\"\n",
        "Con la función programada con anterioridad, devolvemos todas las variaciones y \n",
        "las recorremos hasta encontrar el número indicado\n",
        "\"\"\"\n",
        "def comb_cifras_numeros_FB(num):\n",
        "  lst =  ['1','2','3','4','5','6','7','8','9']\n",
        "  list_num = variaciones(lst, 5)\n",
        "  op =  ['*','-','+','/']\n",
        "  list_op = variaciones(op, 4)\n",
        "  iteracion=0\n",
        "  for nums in list_num:\n",
        "    for ops in list_op:\n",
        "      sol = nums[0]+ops[0]+nums[1]+ops[1]+nums[2]+ops[2]+nums[3]+ops[3]+nums[4]\n",
        "      evaluacion = eval(sol)\n",
        "      iteracion += 1\n",
        "      if evaluacion == num:\n",
        "        return sol, iteracion\n",
        "\n",
        "  return 'No hemos encontrado'\n"
      ],
      "metadata": {
        "id": "OZmtgo1YPK-a"
      },
      "execution_count": 28,
      "outputs": []
    },
    {
      "cell_type": "code",
      "source": [
        "comb_cifras_numeros_FB(-23)"
      ],
      "metadata": {
        "colab": {
          "base_uri": "https://localhost:8080/"
        },
        "id": "kGXpod7Svls3",
        "outputId": "6cb89836-8f57-48a4-bc69-efcd315e546c"
      },
      "execution_count": 29,
      "outputs": [
        {
          "output_type": "execute_result",
          "data": {
            "text/plain": [
              "('1+3-6/2*9', 7312)"
            ]
          },
          "metadata": {},
          "execution_count": 29
        }
      ]
    },
    {
      "cell_type": "code",
      "source": [
        "%%timeit\n",
        "comb_cifras_numeros_FB(-23)"
      ],
      "metadata": {
        "colab": {
          "base_uri": "https://localhost:8080/"
        },
        "id": "jLE6nELARXzO",
        "outputId": "fa86c20c-f85b-40ae-89c8-9aec16400261"
      },
      "execution_count": 30,
      "outputs": [
        {
          "output_type": "stream",
          "name": "stdout",
          "text": [
            "76.8 ms ± 1.2 ms per loop (mean ± std. dev. of 7 runs, 10 loops each)\n"
          ]
        }
      ]
    },
    {
      "cell_type": "markdown",
      "metadata": {
        "id": "tgrnsC2nkFa8"
      },
      "source": [
        "**Calcula la complejidad del algoritmo por fuerza bruta**"
      ]
    },
    {
      "cell_type": "markdown",
      "metadata": {
        "id": "9eUd3xwckP68"
      },
      "source": [
        "Respuesta"
      ]
    },
    {
      "cell_type": "markdown",
      "source": [
        "Se calculan todas las variaciones de los números del 1-9 que es $O(\\frac{n\\_numero!}{(n\\_numero-5)!})$, luego calculamos las variaciones de los operadores que es $O(n\\_operadores!)$, por último recorremos ambas listas que es $O(\\frac{n\\_numero!}{(n\\_numero-5)!} * n\\_operadores!)$.\n",
        "\n",
        "Por tanto, la complejidad es $O(n!)$"
      ],
      "metadata": {
        "id": "1egagSkpRxfb"
      }
    },
    {
      "cell_type": "markdown",
      "metadata": {
        "id": "txbrmLmskReM"
      },
      "source": [
        "**(*)Diseña un algoritmo que mejore la complejidad del algortimo por fuerza bruta. Argumenta porque crees que mejora el algoritmo por fuerza bruta**"
      ]
    },
    {
      "cell_type": "markdown",
      "metadata": {
        "id": "hLrVwt5QkZPD"
      },
      "source": [
        "Respuesta"
      ]
    },
    {
      "cell_type": "markdown",
      "source": [
        "Para este caso voy a desarrollar un algoritmo heurístico. La heurística se va a basar en la distancia hasta el número que se quiere obtener. Además, como no nos interesa en la mayoría de los casos soluciones intermedias decimales, estás soluciones serán ponderadas negativamente.\n",
        "\n",
        "$H(sol) = abs(num-eval(sol)) (1-(1 \\text{ if } eval(sol)==float, \\text{ else } 0))$"
      ],
      "metadata": {
        "id": "PBGXibT8sPN-"
      }
    },
    {
      "cell_type": "code",
      "source": [
        "from queue import PriorityQueue\n",
        "import queue"
      ],
      "metadata": {
        "id": "NHuJFlZLbFGQ"
      },
      "execution_count": 13,
      "outputs": []
    },
    {
      "cell_type": "code",
      "source": [
        "\"\"\"\n",
        "Función para crear hijos a partir de una expresión parcial:\n",
        "  - si la expresión acaba en número, se añade operador (que no esté)\n",
        "  - si la expresión acaba en operador, se añade número (que no esté)\n",
        "\"\"\"\n",
        "def crear_hijos(nodo, ops, nums):\n",
        "  HIJOS=[]\n",
        "  if len(nodo)%2!=0:\n",
        "    for op in ops:\n",
        "      if op not in nodo:\n",
        "        HIJOS.append(nodo+op)\n",
        "  else:\n",
        "    for num in range(1,nums+1):\n",
        "      if str(num) not in nodo:\n",
        "        HIJOS.append(nodo+str(num))\n",
        "  return HIJOS"
      ],
      "metadata": {
        "id": "tDmMwAgmbXsy"
      },
      "execution_count": 16,
      "outputs": []
    },
    {
      "cell_type": "code",
      "metadata": {
        "id": "iTIxi2_5I-Lt"
      },
      "source": [
        "\"\"\"\n",
        "Algoritmo heurístico basado en cola con prioridad que se ordena en la insercción en base a la\n",
        "heurística definida.\n",
        "\"\"\"\n",
        "def comb_cifras_numeros_Priority(num):\n",
        "  #hay que recorrer todas las permutaciones del conjunto {0,...,len(costes)}\n",
        "  nodoInicial = ''\n",
        "  DIMENSION = 9\n",
        "  NUMS = 9\n",
        "  ops = ['*','-','+','/']\n",
        "  NODOS = queue.PriorityQueue()\n",
        "  NODOS.put((0,nodoInicial))\n",
        "  iteracion = 0\n",
        "  while( not NODOS.empty() ):\n",
        "    nodo_prometedor = NODOS.get()\n",
        "    hijos = crear_hijos(nodo_prometedor[1], ops, NUMS)\n",
        "    for x in hijos:\n",
        "      iteracion += 1\n",
        "      if(len(x)%2!=0):\n",
        "        #calcular coste\n",
        "        c_hijo = eval(x)\n",
        "        if not isinstance(c_hijo, float):\n",
        "          NODOS.put((abs(num-c_hijo),x))\n",
        "        else:\n",
        "          NODOS.put((m.inf,x))\n",
        "        #comprobamos si es la solución\n",
        "        if len(x)==DIMENSION and c_hijo==num:\n",
        "          return x, iteracion          \n",
        "      else:\n",
        "        c_hijo = eval(x[:len(x)-1])\n",
        "        if not isinstance(c_hijo, float):\n",
        "          NODOS.put((abs(num-c_hijo),x))\n",
        "        else:\n",
        "          NODOS.put((m.inf,x))\n",
        "  \n",
        "  return 'No se encuentra'"
      ],
      "execution_count": 25,
      "outputs": []
    },
    {
      "cell_type": "code",
      "source": [
        "%%timeit\n",
        "comb_cifras_numeros_FB(10)"
      ],
      "metadata": {
        "colab": {
          "base_uri": "https://localhost:8080/"
        },
        "id": "5P9T80bNhy3B",
        "outputId": "48406813-10d6-4ff9-d64f-05689569265b"
      },
      "execution_count": 31,
      "outputs": [
        {
          "output_type": "stream",
          "name": "stdout",
          "text": [
            "40.9 ms ± 795 µs per loop (mean ± std. dev. of 7 runs, 10 loops each)\n"
          ]
        }
      ]
    },
    {
      "cell_type": "code",
      "source": [
        "comb_cifras_numeros_FB(10)"
      ],
      "metadata": {
        "colab": {
          "base_uri": "https://localhost:8080/"
        },
        "id": "uyMiaXrqu6uf",
        "outputId": "89cd221b-325f-4928-ede5-225856cab006"
      },
      "execution_count": 32,
      "outputs": [
        {
          "output_type": "execute_result",
          "data": {
            "text/plain": [
              "('1+2*6-9/3', 2773)"
            ]
          },
          "metadata": {},
          "execution_count": 32
        }
      ]
    },
    {
      "cell_type": "code",
      "source": [
        "%%timeit\n",
        "comb_cifras_numeros_Priority(10)"
      ],
      "metadata": {
        "colab": {
          "base_uri": "https://localhost:8080/"
        },
        "id": "9s0NwMiRKvdT",
        "outputId": "e2f5e715-064b-4da7-e5a9-9fd20ea923cd"
      },
      "execution_count": 33,
      "outputs": [
        {
          "output_type": "stream",
          "name": "stdout",
          "text": [
            "9 ms ± 2.21 ms per loop (mean ± std. dev. of 7 runs, 100 loops each)\n"
          ]
        }
      ]
    },
    {
      "cell_type": "code",
      "source": [
        "print(comb_cifras_numeros_Priority(10))"
      ],
      "metadata": {
        "colab": {
          "base_uri": "https://localhost:8080/"
        },
        "id": "Y97Hp_5tu-qT",
        "outputId": "59de4cb4-7699-4ef3-855d-b219214490b3"
      },
      "execution_count": 34,
      "outputs": [
        {
          "output_type": "stream",
          "name": "stdout",
          "text": [
            "('9*1+3-4/2', 651)\n"
          ]
        }
      ]
    },
    {
      "cell_type": "markdown",
      "source": [
        "Se puede ver cómo mejora en tiempo el algoritmo y devuelve una solución factible.\n",
        "\n",
        "Además, cómo devuelvo las iteraciones que se realizan en cada algoritmo, también podemos comprobar que hace menos de la mitad de iteracinones."
      ],
      "metadata": {
        "id": "LdCQ3yPOvJ-J"
      }
    },
    {
      "cell_type": "markdown",
      "metadata": {
        "id": "eGDB4K6uk1iN"
      },
      "source": [
        "**(*)Calcula la complejidad del algoritmo**"
      ]
    },
    {
      "cell_type": "markdown",
      "metadata": {
        "id": "NhpTh_BPk1ms"
      },
      "source": [
        "Respuesta"
      ]
    },
    {
      "cell_type": "markdown",
      "source": [
        "En los algoritmos heurísticos no es posible calcular la complejidad del algoritmo. En el caso que he desarrollado, si podría calcular la complejidad en el peor caso posible de que la heurística diseñada funcionase a la inversa y colocase al final de la cola la solución que queremos encontrar. En este caso, debería buscar entre todas las posibilidades y por tanto sería el algorimto de fuerza bruta con una complejidad de $O(n!)$"
      ],
      "metadata": {
        "id": "iHOntr0ni8dW"
      }
    },
    {
      "cell_type": "markdown",
      "metadata": {
        "id": "3M6QjTsSkmYe"
      },
      "source": [
        "**Según el problema (y tenga sentido), diseña un juego de datos de entrada aleatorios**"
      ]
    },
    {
      "cell_type": "markdown",
      "metadata": {
        "id": "Jc3_OlyNkvjZ"
      },
      "source": [
        "Respuesta"
      ]
    },
    {
      "cell_type": "code",
      "source": [
        "import random"
      ],
      "metadata": {
        "id": "iPYAWQArjSxj"
      },
      "execution_count": 36,
      "outputs": []
    },
    {
      "cell_type": "code",
      "metadata": {
        "id": "sJ-N2etjkyWc"
      },
      "source": [
        "nums = [random.randint(min(list_num_posibles),max(list_num_posibles)) for i in range(5)]\n"
      ],
      "execution_count": 37,
      "outputs": []
    },
    {
      "cell_type": "code",
      "source": [
        "nums"
      ],
      "metadata": {
        "colab": {
          "base_uri": "https://localhost:8080/"
        },
        "id": "H_g4UNiMjp3B",
        "outputId": "58e00437-4301-48e2-de18-49b7f8abdefb"
      },
      "execution_count": 38,
      "outputs": [
        {
          "output_type": "execute_result",
          "data": {
            "text/plain": [
              "[-64, -30, -24, 23, -33]"
            ]
          },
          "metadata": {},
          "execution_count": 38
        }
      ]
    },
    {
      "cell_type": "markdown",
      "metadata": {
        "id": "zy5ZROmjlGo1"
      },
      "source": [
        "**Aplica el algoritmo al juego de datos generado**"
      ]
    },
    {
      "cell_type": "markdown",
      "metadata": {
        "id": "_Cmj-PVylMsa"
      },
      "source": [
        "Respuesta"
      ]
    },
    {
      "cell_type": "code",
      "metadata": {
        "id": "Jkx8GeiYlUz1",
        "colab": {
          "base_uri": "https://localhost:8080/"
        },
        "outputId": "af050302-ed64-48ae-c1fb-ed77433c9215"
      },
      "source": [
        "for i in nums:\n",
        "  start = time.time()\n",
        "  expr, _ = comb_cifras_numeros_Priority(i)\n",
        "  end = time.time()\n",
        "  print(expr + f' = {i} con tiempo {end-start}')\n",
        " "
      ],
      "execution_count": 39,
      "outputs": [
        {
          "output_type": "stream",
          "name": "stdout",
          "text": [
            "2-9*8+6/1 = -64 con tiempo 0.05990457534790039\n",
            "1-7*5+8/2 = -30 con tiempo 0.0076329708099365234\n",
            "1-9*3+4/2 = -24 con tiempo 0.0007321834564208984\n",
            "9*3-6+2/1 = 23 con tiempo 0.0012967586517333984\n",
            "1-9*4+6/3 = -33 con tiempo 0.0008940696716308594\n"
          ]
        }
      ]
    },
    {
      "cell_type": "markdown",
      "metadata": {
        "id": "eTFWUJQrtGcv"
      },
      "source": [
        "**Enumera las referencias que has utilizado(si ha sido necesario) para llevar a cabo el trabajo**"
      ]
    },
    {
      "cell_type": "markdown",
      "metadata": {
        "id": "YKQ_mRBttWsP"
      },
      "source": [
        "Apuntes aportados por la asignatura Algoritmos de optimización"
      ]
    },
    {
      "cell_type": "markdown",
      "metadata": {
        "id": "kAkDPUyRtYyH"
      },
      "source": [
        "**Describe brevemente las lineas de como crees que es posible avanzar en el estudio del problema. Ten en cuenta incluso posibles variaciones del problema y/o variaciones al alza del tamaño**"
      ]
    },
    {
      "cell_type": "markdown",
      "metadata": {
        "id": "IE0uZmo-tZu-"
      },
      "source": [
        "Respuesta"
      ]
    },
    {
      "cell_type": "markdown",
      "source": [
        "En mi opinión,  el estudio sobre este problema podría seguir generalizando el problema a cualquier conjunto de números y operadores con o sin repetición de los mismos.\n",
        "\n",
        "Igualmente, cómo problema de búsqueda, es probable que la heurística que he diseñado no sea la mejor y pueda avanzarse en ese desarrollo también."
      ],
      "metadata": {
        "id": "ZK62WaZe6s9p"
      }
    }
  ]
}