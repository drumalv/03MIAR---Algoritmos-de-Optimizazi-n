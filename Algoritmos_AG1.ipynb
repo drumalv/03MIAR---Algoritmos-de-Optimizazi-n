{
  "nbformat": 4,
  "nbformat_minor": 0,
  "metadata": {
    "colab": {
      "provenance": [],
      "authorship_tag": "ABX9TyP4WGI0tOj/Iof5HtSIRCnO",
      "include_colab_link": true
    },
    "kernelspec": {
      "name": "python3",
      "display_name": "Python 3"
    },
    "language_info": {
      "name": "python"
    }
  },
  "cells": [
    {
      "cell_type": "markdown",
      "metadata": {
        "id": "view-in-github",
        "colab_type": "text"
      },
      "source": [
        "<a href=\"https://colab.research.google.com/github/drumalv/03MIAR---Algoritmos-de-Optimizazion/blob/main/Algoritmos_AG1.ipynb\" target=\"_parent\"><img src=\"https://colab.research.google.com/assets/colab-badge.svg\" alt=\"Open In Colab\"/></a>"
      ]
    },
    {
      "cell_type": "markdown",
      "source": [
        "# Actividad Guiada 1 de Algoritmos de Optimizacion\n",
        "\n",
        "Nombre : Álvaro Beltrán\n",
        "\n",
        "Enlace : https://colab.research.google.com/drive/1dJClXjGO00H4cKpMDcJgw_b_on2s8wdA?usp=sharing\n",
        "\n",
        "Github : https://github.com/drumalv/03MIAR---Algoritmos-de-Optimizazion\n"
      ],
      "metadata": {
        "id": "1PiWBRXaPdqP"
      }
    },
    {
      "cell_type": "markdown",
      "source": [
        "## Divide y vencerás. Torres de Hanoi"
      ],
      "metadata": {
        "id": "hOQ1EpTcQxwa"
      }
    },
    {
      "cell_type": "markdown",
      "source": [
        "Vamos a dividir el problema en mover n-1 fichas desde la inicial al pivote y desde el pivote hasta la posición final. El **pivote** es el número que no es ni desde ni hasta es decir:\n",
        "* desde = 1, hasta = 3 $\\Rightarrow$ pivote = 2\n",
        "* desde = 1, hasta = 3 $\\Rightarrow$ pivote = 2\n",
        "\n",
        "$\\Rightarrow$ pivote = 6-desde-hasta\n"
      ],
      "metadata": {
        "id": "-eIAS1a_Twwl"
      }
    },
    {
      "cell_type": "code",
      "source": [
        "\"\"\"\n",
        "Torres de Hanoi - Divide y venceras\n",
        "\n",
        "  N - nº de fichas\n",
        "  desde - torre inicial\n",
        "  hasta - torre final\n",
        "\n",
        "\"\"\"\n",
        "def Torres_Hanoi(N, desde, hasta):\n",
        "  if N==1 :\n",
        "    print(\"Lleva la ficha desde \" + str(desde) + \" hasta \" + str(hasta))\n",
        "  else:\n",
        "    Torres_Hanoi(N-1, desde, 6-desde-hasta)\n",
        "    print(\"Lleva la ficha desde \" + str(desde) + \" hasta \" + str(hasta))\n",
        "    Torres_Hanoi(N-1, 6-desde-hasta,  hasta)"
      ],
      "metadata": {
        "id": "JSg8qAWGQDv5"
      },
      "execution_count": null,
      "outputs": []
    },
    {
      "cell_type": "code",
      "source": [
        "Torres_Hanoi(3, 1, 3)"
      ],
      "metadata": {
        "colab": {
          "base_uri": "https://localhost:8080/"
        },
        "id": "r42CLsllS8kS",
        "outputId": "9a5bf2d3-9e1c-4306-ef52-a9c3d355f773"
      },
      "execution_count": null,
      "outputs": [
        {
          "output_type": "stream",
          "name": "stdout",
          "text": [
            "Lleva la ficha desde 1 hasta 3\n",
            "Lleva la ficha desde 1 hasta 2\n",
            "Lleva la ficha desde 3 hasta 2\n",
            "Lleva la ficha desde 1 hasta 3\n",
            "Lleva la ficha desde 2 hasta 1\n",
            "Lleva la ficha desde 2 hasta 3\n",
            "Lleva la ficha desde 1 hasta 3\n"
          ]
        }
      ]
    },
    {
      "cell_type": "markdown",
      "source": [
        "## Técnica Voraz. Cambio de monedas"
      ],
      "metadata": {
        "id": "m7De_GRWWWvl"
      }
    },
    {
      "cell_type": "code",
      "source": [
        "\"\"\"\n",
        "Cambio de monedas - Técnica voraz\n",
        "\n",
        "  cantidad - nº que deben sumar las monedas\n",
        "  sistema - lista de monedas posibles (Ordenado decrecientemente)\n",
        "\n",
        "\"\"\"\n",
        "def cambio_monedas(cantidad,sistema):\n",
        "  sol = {}\n",
        "  ValorAcumulado = 0\n",
        "\n",
        "  for valor in sistema:\n",
        "    monedas = (cantidad-ValorAcumulado)//valor\n",
        "    sol[valor] = monedas\n",
        "    ValorAcumulado += monedas*valor\n",
        "\n",
        "    if cantidad == ValorAcumulado:\n",
        "      return sol\n",
        "\n",
        "  print(\"No es posible encontrar solucion\") "
      ],
      "metadata": {
        "id": "sQFNXfiJWdE_"
      },
      "execution_count": null,
      "outputs": []
    },
    {
      "cell_type": "code",
      "source": [
        "sistema = [12, 5 ,2, 1  ]\n",
        "cambio_monedas(15,sistema)"
      ],
      "metadata": {
        "colab": {
          "base_uri": "https://localhost:8080/"
        },
        "id": "FQ1OVfd8Wy6t",
        "outputId": "45c7694c-9a13-4986-bf37-01556f818fc3"
      },
      "execution_count": null,
      "outputs": [
        {
          "output_type": "execute_result",
          "data": {
            "text/plain": [
              "{12: 1, 5: 0, 2: 1, 1: 1}"
            ]
          },
          "metadata": {},
          "execution_count": 4
        }
      ]
    },
    {
      "cell_type": "markdown",
      "source": [
        "## Vuelta atrás. N reinas"
      ],
      "metadata": {
        "id": "zFU47WUfZ5xs"
      }
    },
    {
      "cell_type": "code",
      "source": [
        "\"\"\"\n",
        "Verifica que en la solución parcial no hay amenzas entre reinas\n",
        "\"\"\"\n",
        "def es_prometedora(SOLUCION,etapa):\n",
        "################################################################\n",
        "  #print(SOLUCION)\n",
        "  #Si la solución tiene dos valores iguales no es valida => Dos reinas en la misma fila\n",
        "  for i in range(etapa+1):\n",
        "    #print(\"El valor \" + str(SOLUCION[i]) + \" está \" +  str(SOLUCION.count(SOLUCION[i])) + \" veces\")\n",
        "    if SOLUCION.count(SOLUCION[i]) > 1:       \n",
        "      return False\n",
        "  \n",
        "    #Verifica las diagonales\n",
        "    for j in range(i+1, etapa +1 ):\n",
        "      #print(\"Comprobando diagonal de \" + str(i) + \" y \" + str(j))\n",
        "      if abs(i-j) == abs(SOLUCION[i]-SOLUCION[j]) : return False\n",
        "  return True\n",
        "\n",
        "\"\"\"\n",
        "Traduce la solución al tablero\n",
        "\"\"\"\n",
        "def escribe_solucion(S):\n",
        "  n = len(S)\n",
        "  for x in range(n):\n",
        "    print(\"\")\n",
        "    for i in range(n):\n",
        "      if S[i] == x+1:\n",
        "        print(\" X \" , end=\"\")\n",
        "      else:\n",
        "        print(\" - \", end=\"\")\n",
        "\n",
        "\n",
        "\"\"\"\n",
        "Proceso principal de N-Reinas\n",
        "\"\"\"\n",
        "def reinas(N, solucion=[],etapa=0): \n",
        "\n",
        "  if len(solucion) == 0:         # [0,0,0...]\n",
        "    solucion = [0 for i in range(N) ]\n",
        "  \n",
        "  for i in range(1, N+1):\n",
        "    solucion[etapa] = i\n",
        "    if es_prometedora(solucion, etapa):\n",
        "      if etapa == N-1:\n",
        "        print(solucion)\n",
        "      else:  \n",
        "        reinas(N, solucion, etapa+1)\n",
        "    else:\n",
        "      None\n",
        "  \n",
        "  solucion[etapa] = 0"
      ],
      "metadata": {
        "id": "8exqH5xxZ95k"
      },
      "execution_count": null,
      "outputs": []
    },
    {
      "cell_type": "code",
      "source": [
        "reinas(8,solucion=[],etapa=0)"
      ],
      "metadata": {
        "colab": {
          "base_uri": "https://localhost:8080/"
        },
        "id": "M5gLjxNdawOI",
        "outputId": "6695d91d-17f3-444c-a190-90243ded5fdf"
      },
      "execution_count": null,
      "outputs": [
        {
          "output_type": "stream",
          "name": "stdout",
          "text": [
            "[1, 5, 8, 6, 3, 7, 2, 4]\n",
            "[1, 6, 8, 3, 7, 4, 2, 5]\n",
            "[1, 7, 4, 6, 8, 2, 5, 3]\n",
            "[1, 7, 5, 8, 2, 4, 6, 3]\n",
            "[2, 4, 6, 8, 3, 1, 7, 5]\n",
            "[2, 5, 7, 1, 3, 8, 6, 4]\n",
            "[2, 5, 7, 4, 1, 8, 6, 3]\n",
            "[2, 6, 1, 7, 4, 8, 3, 5]\n",
            "[2, 6, 8, 3, 1, 4, 7, 5]\n",
            "[2, 7, 3, 6, 8, 5, 1, 4]\n",
            "[2, 7, 5, 8, 1, 4, 6, 3]\n",
            "[2, 8, 6, 1, 3, 5, 7, 4]\n",
            "[3, 1, 7, 5, 8, 2, 4, 6]\n",
            "[3, 5, 2, 8, 1, 7, 4, 6]\n",
            "[3, 5, 2, 8, 6, 4, 7, 1]\n",
            "[3, 5, 7, 1, 4, 2, 8, 6]\n",
            "[3, 5, 8, 4, 1, 7, 2, 6]\n",
            "[3, 6, 2, 5, 8, 1, 7, 4]\n",
            "[3, 6, 2, 7, 1, 4, 8, 5]\n",
            "[3, 6, 2, 7, 5, 1, 8, 4]\n",
            "[3, 6, 4, 1, 8, 5, 7, 2]\n",
            "[3, 6, 4, 2, 8, 5, 7, 1]\n",
            "[3, 6, 8, 1, 4, 7, 5, 2]\n",
            "[3, 6, 8, 1, 5, 7, 2, 4]\n",
            "[3, 6, 8, 2, 4, 1, 7, 5]\n",
            "[3, 7, 2, 8, 5, 1, 4, 6]\n",
            "[3, 7, 2, 8, 6, 4, 1, 5]\n",
            "[3, 8, 4, 7, 1, 6, 2, 5]\n",
            "[4, 1, 5, 8, 2, 7, 3, 6]\n",
            "[4, 1, 5, 8, 6, 3, 7, 2]\n",
            "[4, 2, 5, 8, 6, 1, 3, 7]\n",
            "[4, 2, 7, 3, 6, 8, 1, 5]\n",
            "[4, 2, 7, 3, 6, 8, 5, 1]\n",
            "[4, 2, 7, 5, 1, 8, 6, 3]\n",
            "[4, 2, 8, 5, 7, 1, 3, 6]\n",
            "[4, 2, 8, 6, 1, 3, 5, 7]\n",
            "[4, 6, 1, 5, 2, 8, 3, 7]\n",
            "[4, 6, 8, 2, 7, 1, 3, 5]\n",
            "[4, 6, 8, 3, 1, 7, 5, 2]\n",
            "[4, 7, 1, 8, 5, 2, 6, 3]\n",
            "[4, 7, 3, 8, 2, 5, 1, 6]\n",
            "[4, 7, 5, 2, 6, 1, 3, 8]\n",
            "[4, 7, 5, 3, 1, 6, 8, 2]\n",
            "[4, 8, 1, 3, 6, 2, 7, 5]\n",
            "[4, 8, 1, 5, 7, 2, 6, 3]\n",
            "[4, 8, 5, 3, 1, 7, 2, 6]\n",
            "[5, 1, 4, 6, 8, 2, 7, 3]\n",
            "[5, 1, 8, 4, 2, 7, 3, 6]\n",
            "[5, 1, 8, 6, 3, 7, 2, 4]\n",
            "[5, 2, 4, 6, 8, 3, 1, 7]\n",
            "[5, 2, 4, 7, 3, 8, 6, 1]\n",
            "[5, 2, 6, 1, 7, 4, 8, 3]\n",
            "[5, 2, 8, 1, 4, 7, 3, 6]\n",
            "[5, 3, 1, 6, 8, 2, 4, 7]\n",
            "[5, 3, 1, 7, 2, 8, 6, 4]\n",
            "[5, 3, 8, 4, 7, 1, 6, 2]\n",
            "[5, 7, 1, 3, 8, 6, 4, 2]\n",
            "[5, 7, 1, 4, 2, 8, 6, 3]\n",
            "[5, 7, 2, 4, 8, 1, 3, 6]\n",
            "[5, 7, 2, 6, 3, 1, 4, 8]\n",
            "[5, 7, 2, 6, 3, 1, 8, 4]\n",
            "[5, 7, 4, 1, 3, 8, 6, 2]\n",
            "[5, 8, 4, 1, 3, 6, 2, 7]\n",
            "[5, 8, 4, 1, 7, 2, 6, 3]\n",
            "[6, 1, 5, 2, 8, 3, 7, 4]\n",
            "[6, 2, 7, 1, 3, 5, 8, 4]\n",
            "[6, 2, 7, 1, 4, 8, 5, 3]\n",
            "[6, 3, 1, 7, 5, 8, 2, 4]\n",
            "[6, 3, 1, 8, 4, 2, 7, 5]\n",
            "[6, 3, 1, 8, 5, 2, 4, 7]\n",
            "[6, 3, 5, 7, 1, 4, 2, 8]\n",
            "[6, 3, 5, 8, 1, 4, 2, 7]\n",
            "[6, 3, 7, 2, 4, 8, 1, 5]\n",
            "[6, 3, 7, 2, 8, 5, 1, 4]\n",
            "[6, 3, 7, 4, 1, 8, 2, 5]\n",
            "[6, 4, 1, 5, 8, 2, 7, 3]\n",
            "[6, 4, 2, 8, 5, 7, 1, 3]\n",
            "[6, 4, 7, 1, 3, 5, 2, 8]\n",
            "[6, 4, 7, 1, 8, 2, 5, 3]\n",
            "[6, 8, 2, 4, 1, 7, 5, 3]\n",
            "[7, 1, 3, 8, 6, 4, 2, 5]\n",
            "[7, 2, 4, 1, 8, 5, 3, 6]\n",
            "[7, 2, 6, 3, 1, 4, 8, 5]\n",
            "[7, 3, 1, 6, 8, 5, 2, 4]\n",
            "[7, 3, 8, 2, 5, 1, 6, 4]\n",
            "[7, 4, 2, 5, 8, 1, 3, 6]\n",
            "[7, 4, 2, 8, 6, 1, 3, 5]\n",
            "[7, 5, 3, 1, 6, 8, 2, 4]\n",
            "[8, 2, 4, 1, 7, 5, 3, 6]\n",
            "[8, 2, 5, 3, 1, 7, 4, 6]\n",
            "[8, 3, 1, 6, 2, 5, 7, 4]\n",
            "[8, 4, 1, 3, 6, 2, 7, 5]\n"
          ]
        }
      ]
    },
    {
      "cell_type": "markdown",
      "source": [
        "## Encontrar los dos puntos más cercanos"
      ],
      "metadata": {
        "id": "m2xgukHedodN"
      }
    },
    {
      "cell_type": "markdown",
      "source": [
        "Dado un conjunto de puntos se trata de encontrar los dos puntos más cercanos."
      ],
      "metadata": {
        "id": "bZVCijSIdtGL"
      }
    },
    {
      "cell_type": "code",
      "source": [
        "import matplotlib.pyplot as plt\n",
        "import math as m\n",
        "import random"
      ],
      "metadata": {
        "id": "8Po655oMh4Ww"
      },
      "execution_count": null,
      "outputs": []
    },
    {
      "cell_type": "code",
      "source": [
        "\"\"\"\n",
        "Función distancia euclidea: usaré la función dist de math\n",
        "\"\"\"\n",
        "a = (1, 2, 3)\n",
        "b = (4, 5, 6)\n",
        "\n",
        "print(m.dist(a,b))"
      ],
      "metadata": {
        "colab": {
          "base_uri": "https://localhost:8080/"
        },
        "id": "kAklFzXvdrKb",
        "outputId": "497d4664-42f7-4087-ec45-458eefaade5a"
      },
      "execution_count": null,
      "outputs": [
        {
          "output_type": "stream",
          "name": "stdout",
          "text": [
            "5.196152422706632\n"
          ]
        }
      ]
    },
    {
      "cell_type": "code",
      "source": [
        "\"\"\"\n",
        "Función para pintar puntos 1D y 2D\n",
        "\"\"\"\n",
        "def pinta_solucion(lista_puntos,sol):\n",
        "\n",
        "  if len(lista_puntos[0]) == 1:\n",
        "    yVals = np.zeros(len(lista_puntos))\n",
        "    xVals = np.array(lista_puntos)\n",
        "  else:\n",
        "    yVals = np.array(lista_puntos)[:,1]\n",
        "    xVals = np.array(lista_puntos)[:,0]\n",
        "\n",
        "  color = ['#1f77b4']*len(lista_puntos)\n",
        "  color[sol[0]] = '#2ca02c'\n",
        "  color[sol[1]] = '#2ca02c'\n",
        "  plt.scatter(x=xVals,y=yVals,c=color)\n",
        "  plt.show()"
      ],
      "metadata": {
        "id": "fAji6VNJjN4P"
      },
      "execution_count": null,
      "outputs": []
    },
    {
      "cell_type": "code",
      "source": [
        "\"\"\"\n",
        "Función para pintar puntos 3D\n",
        "\"\"\"\n",
        "def pinta_solucion_3D(lista_puntos,sol):\n",
        "  fig = plt.figure()\n",
        "  ax = fig.add_subplot(projection='3d')\n",
        "  ys = np.array(lista_puntos)[:,1]\n",
        "  xs = np.array(lista_puntos)[:,0]\n",
        "  zs = np.array(lista_puntos)[:,2]\n",
        "  color = ['#1f77b4']*len(lista_puntos)\n",
        "  color[sol[0]] = '#2ca02c'\n",
        "  color[sol[1]] = '#2ca02c'\n",
        "  ax.scatter(xs, ys, zs,c=color)\n",
        "  plt.show()"
      ],
      "metadata": {
        "id": "gB9yQI80kxRR"
      },
      "execution_count": null,
      "outputs": []
    },
    {
      "cell_type": "markdown",
      "source": [
        "### Algoritmo de fuerza bruta"
      ],
      "metadata": {
        "id": "3N57gFSKen10"
      }
    },
    {
      "cell_type": "code",
      "source": [
        "import numpy as np"
      ],
      "metadata": {
        "id": "uWGLr07R8LlD"
      },
      "execution_count": null,
      "outputs": []
    },
    {
      "cell_type": "markdown",
      "source": [
        "Se debe resolver para 1D, 2D y 3D. En este caso lo resolveré para n-dimensiones pero solo mostraré soluciones para 1D, 2D y 3D."
      ],
      "metadata": {
        "id": "KOSSjSfnnixZ"
      }
    },
    {
      "cell_type": "code",
      "source": [
        "def conjunto_puntos_FB(lista_puntos):\n",
        "  minDistancia = m.inf\n",
        "  pareja = (-1,-1)\n",
        "  for i in range(len(lista_puntos)):\n",
        "    v_i = lista_puntos[i]\n",
        "    # la distancia de i a j es la misma que de j a i\n",
        "    for j in range(i+1,len(lista_puntos)):\n",
        "      distancia = m.dist(v_i,lista_puntos[j])\n",
        "      if distancia < minDistancia:\n",
        "        pareja = (i, j)\n",
        "        minDistancia = distancia\n",
        "  return pareja, minDistancia"
      ],
      "metadata": {
        "id": "Gjiu24dLeqW4"
      },
      "execution_count": null,
      "outputs": []
    },
    {
      "cell_type": "markdown",
      "source": [
        "La complejidad de este algoritmo es $\\frac{n(n-1)}{2}$ por lo que el algoritmo es $O(n^2)$"
      ],
      "metadata": {
        "id": "jwQo6h89lwv9"
      }
    },
    {
      "cell_type": "code",
      "source": [
        "lista_1D = [[random.randrange(1,10000)] for x in range(10)]\n",
        "print(lista_1D)\n",
        "sol, minDistancia = conjunto_puntos_FB(lista_1D)\n",
        "print(f'Solución: {sol}')"
      ],
      "metadata": {
        "colab": {
          "base_uri": "https://localhost:8080/"
        },
        "id": "BW6VDZrkgDZh",
        "outputId": "5ed406d1-71ca-4221-8b94-202085da15ad"
      },
      "execution_count": null,
      "outputs": [
        {
          "output_type": "stream",
          "name": "stdout",
          "text": [
            "[[1343], [1193], [6376], [7321], [9922], [2529], [7067], [7908], [7188], [2766]]\n",
            "Solución: (6, 8)\n"
          ]
        }
      ]
    },
    {
      "cell_type": "code",
      "source": [
        "pinta_solucion(lista_1D,sol)"
      ],
      "metadata": {
        "colab": {
          "base_uri": "https://localhost:8080/",
          "height": 265
        },
        "id": "PDGBuSiLkNoK",
        "outputId": "19da83b1-f616-4fdd-a0df-9d545fee571c"
      },
      "execution_count": null,
      "outputs": [
        {
          "output_type": "display_data",
          "data": {
            "text/plain": [
              "<Figure size 432x288 with 1 Axes>"
            ],
            "image/png": "[encoded data removed]"
          },
          "metadata": {
            "needs_background": "light"
          }
        }
      ]
    },
    {
      "cell_type": "code",
      "source": [
        "lista_2D = [[random.randrange(1,10000),random.randrange(1,10000)] for x in range(10)]\n",
        "print(lista_2D)\n",
        "sol, minDistancia = conjunto_puntos_FB(lista_2D)\n",
        "print(f'Solución: {sol}')"
      ],
      "metadata": {
        "colab": {
          "base_uri": "https://localhost:8080/"
        },
        "id": "pI07wapZhROU",
        "outputId": "bb41aa7d-288e-43ce-f25c-80af7c0fd6e9"
      },
      "execution_count": null,
      "outputs": [
        {
          "output_type": "stream",
          "name": "stdout",
          "text": [
            "[[3500, 1853], [8173, 3099], [9581, 8555], [9509, 8930], [7589, 4005], [1943, 4516], [1525, 8607], [7213, 5314], [2190, 3101], [4793, 1294]]\n",
            "Solución: (2, 3)\n"
          ]
        }
      ]
    },
    {
      "cell_type": "code",
      "source": [
        "pinta_solucion(lista_2D,sol)"
      ],
      "metadata": {
        "colab": {
          "base_uri": "https://localhost:8080/",
          "height": 265
        },
        "id": "-mE2An3Zh2Os",
        "outputId": "6dc226ed-b065-4b5f-9618-197049fd31a5"
      },
      "execution_count": null,
      "outputs": [
        {
          "output_type": "display_data",
          "data": {
            "text/plain": [
              "<Figure size 432x288 with 1 Axes>"
            ],
            "image/png": "[encoded data removed]"
          },
          "metadata": {
            "needs_background": "light"
          }
        }
      ]
    },
    {
      "cell_type": "code",
      "source": [
        "lista_3D = [[random.randrange(1,10000),random.randrange(1,10000),random.randrange(1,10000)] for x in range(10)]\n",
        "print(lista_3D)\n",
        "sol, minDistancia = conjunto_puntos_FB(lista_3D)\n",
        "print(f'Solución: {sol}')"
      ],
      "metadata": {
        "colab": {
          "base_uri": "https://localhost:8080/"
        },
        "id": "pOTJC8jNhedx",
        "outputId": "175ed955-376a-403a-d4c6-ea6921cbeb24"
      },
      "execution_count": null,
      "outputs": [
        {
          "output_type": "stream",
          "name": "stdout",
          "text": [
            "[[4634, 4680, 4334], [2078, 2145, 4387], [2214, 1162, 7640], [5146, 338, 807], [7725, 4200, 7175], [8929, 8963, 6403], [668, 27, 3207], [8671, 2364, 5524], [5800, 4081, 1572], [5021, 8163, 9403]]\n",
            "Solución: (4, 7)\n"
          ]
        }
      ]
    },
    {
      "cell_type": "code",
      "source": [
        "pinta_solucion_3D(lista_3D,sol)"
      ],
      "metadata": {
        "colab": {
          "base_uri": "https://localhost:8080/",
          "height": 248
        },
        "id": "7TTrWRrplKml",
        "outputId": "3a3f6662-ca66-4876-fdd9-c4835204edc4"
      },
      "execution_count": null,
      "outputs": [
        {
          "output_type": "display_data",
          "data": {
            "text/plain": [
              "<Figure size 432x288 with 1 Axes>"
            ],
            "image/png": "[encoded data removed]"
          },
          "metadata": {
            "needs_background": "light"
          }
        }
      ]
    },
    {
      "cell_type": "markdown",
      "source": [
        "### Divide y vencerás\n"
      ],
      "metadata": {
        "id": "vG8Zr_CPpSZe"
      }
    },
    {
      "cell_type": "markdown",
      "source": [
        "Para este problema se divide el problema en dos mitades según el espacio de puntos, buscamos el punto medio de la lista de puntos y dividimos el problema en la lista de puntos de la derecha del punto medio y de la izquierda del punto medio.\n",
        "\n",
        "Luego, hay que comprobar las distancias en el entorno del punto medio porque puede ser que la distancia mínima se quede entre los puntos de las dos mitades.\n",
        "\n",
        "http://www.algoritmia.net/articles.php?id=34"
      ],
      "metadata": {
        "id": "KoWg9VCnO5a6"
      }
    },
    {
      "cell_type": "markdown",
      "source": [
        "La complejidad de este algoritmo es $T(n)=2T(n/2)+n$ por lo que el algoritmo es $O(nlog(n))$"
      ],
      "metadata": {
        "id": "WURHhEWJHfn-"
      }
    },
    {
      "cell_type": "code",
      "source": [
        "def conjunto_puntos_FB_dmin(lista_puntos,d_min,desde,hasta):\n",
        "  minDistancia = d_min\n",
        "  pareja = (-1,-1)\n",
        "  for i in range(desde,hasta+1):\n",
        "    v_i = lista_puntos[i]\n",
        "    # la distancia de i a j es la misma que de j a i\n",
        "    for j in range(i+1,hasta+1):\n",
        "      distancia = m.dist(v_i,lista_puntos[j])\n",
        "      if distancia < minDistancia:\n",
        "        pareja = (i, j)\n",
        "        minDistancia = distancia\n",
        "  return pareja, minDistancia\n",
        "\n",
        "\n",
        "\"\"\"\n",
        "Lista de puntos: ordenada en la x\n",
        "desde el inicio del array\n",
        "hasta índice último\n",
        "\"\"\"\n",
        "def conjunto_puntos_DV(lista_puntos, desde, hasta):\n",
        "\n",
        "  if(hasta-desde<=3):\n",
        "    return conjunto_puntos_FB_dmin(lista_puntos, m.inf, desde, hasta )\n",
        "  else:  \n",
        "    punto_medio = (hasta+desde)//2\n",
        "    #mitad 1\n",
        "    pareja_i, minDistancia_i = conjunto_puntos_DV(lista_puntos,desde,punto_medio)\n",
        "    #mitad 2\n",
        "    pareja_d, minDistancia_d = conjunto_puntos_DV(lista_puntos,punto_medio,hasta)\n",
        "\n",
        "    if minDistancia_i <= minDistancia_d:\n",
        "      pareja_min = pareja_i\n",
        "      d_min = minDistancia_i\n",
        "    else:\n",
        "      pareja_min = pareja_d\n",
        "      d_min = minDistancia_d\n",
        "\n",
        "    strip = []\n",
        "    for i in range(desde,hasta+1):\n",
        "        if m.dist(lista_puntos[i],lista_puntos[punto_medio]) < d_min:\n",
        "            strip.append(lista_puntos[i])\n",
        "    \n",
        "    pareja, minDistancia = conjunto_puntos_FB_dmin(strip,d_min,0,len(strip)-1)\n",
        "\n",
        "    if pareja == (-1,-1):\n",
        "      return pareja_min, d_min\n",
        "    else:\n",
        "      return pareja, minDistancia"
      ],
      "metadata": {
        "id": "-Cey9naPpU8M"
      },
      "execution_count": null,
      "outputs": []
    },
    {
      "cell_type": "code",
      "source": [
        "print(sorted(lista_1D))\n",
        "sol, minDistancia = conjunto_puntos_DV(sorted(lista_1D),0,len(lista_1D)-1)\n",
        "print(f'Solución: {sol} y {minDistancia}')"
      ],
      "metadata": {
        "colab": {
          "base_uri": "https://localhost:8080/"
        },
        "id": "W0HXWmZaONS1",
        "outputId": "c453bbde-de7c-4a28-89b7-d964b1d8d715"
      },
      "execution_count": null,
      "outputs": [
        {
          "output_type": "stream",
          "name": "stdout",
          "text": [
            "[[1193], [1343], [2529], [2766], [6376], [7067], [7188], [7321], [7908], [9922]]\n",
            "Solución: (5, 6) y 121.0\n"
          ]
        }
      ]
    },
    {
      "cell_type": "code",
      "source": [
        "pinta_solucion(sorted(lista_1D),sol)"
      ],
      "metadata": {
        "colab": {
          "base_uri": "https://localhost:8080/",
          "height": 265
        },
        "id": "n2H6Rea8OOdt",
        "outputId": "17f23931-4fb1-4503-977d-101e22307327"
      },
      "execution_count": null,
      "outputs": [
        {
          "output_type": "display_data",
          "data": {
            "text/plain": [
              "<Figure size 432x288 with 1 Axes>"
            ],
            "image/png": "[encoded data removed]"
          },
          "metadata": {
            "needs_background": "light"
          }
        }
      ]
    },
    {
      "cell_type": "code",
      "source": [
        "print(sorted(lista_2D))\n",
        "sol, minDistancia = conjunto_puntos_DV(sorted(lista_2D),0,len(lista_2D)-1)\n",
        "print(f'Solución: {sol} y {minDistancia}')"
      ],
      "metadata": {
        "colab": {
          "base_uri": "https://localhost:8080/"
        },
        "id": "UjykL9gaHSTp",
        "outputId": "6364ab1a-afb4-4623-f85a-b07db30050e8"
      },
      "execution_count": null,
      "outputs": [
        {
          "output_type": "stream",
          "name": "stdout",
          "text": [
            "[[1525, 8607], [1943, 4516], [2190, 3101], [3500, 1853], [4793, 1294], [7213, 5314], [7589, 4005], [8173, 3099], [9509, 8930], [9581, 8555]]\n",
            "Solución: (8, 9) y 381.849446771892\n"
          ]
        }
      ]
    },
    {
      "cell_type": "code",
      "source": [
        "pinta_solucion(sorted(lista_2D),sol)"
      ],
      "metadata": {
        "colab": {
          "base_uri": "https://localhost:8080/",
          "height": 265
        },
        "id": "EguLFcrkJKt4",
        "outputId": "5eb654b7-afa9-4083-8e77-191c3b9a2a9c"
      },
      "execution_count": null,
      "outputs": [
        {
          "output_type": "display_data",
          "data": {
            "text/plain": [
              "<Figure size 432x288 with 1 Axes>"
            ],
            "image/png": "[encoded data removed]"
          },
          "metadata": {
            "needs_background": "light"
          }
        }
      ]
    },
    {
      "cell_type": "code",
      "source": [
        "print(sorted(lista_3D))\n",
        "sol, minDistancia = conjunto_puntos_DV(sorted(lista_3D),0,len(lista_3D)-1)\n",
        "print(f'Solución: {sol} y {minDistancia}')"
      ],
      "metadata": {
        "colab": {
          "base_uri": "https://localhost:8080/"
        },
        "id": "BxG9p7miNYPK",
        "outputId": "028b49a3-e480-48b9-e4c4-cf840debde64"
      },
      "execution_count": null,
      "outputs": [
        {
          "output_type": "stream",
          "name": "stdout",
          "text": [
            "[[568, 48, 2279], [1078, 6331, 2725], [2337, 2205, 9398], [5233, 8375, 3006], [6106, 2042, 9915], [7127, 9543, 7290], [8135, 7203, 769], [8187, 4237, 4416], [8676, 9592, 127], [8907, 1833, 3185]]\n",
            "Solución: (6, 8) y 2532.2255033863003\n"
          ]
        }
      ]
    },
    {
      "cell_type": "code",
      "source": [
        "pinta_solucion_3D(sorted(lista_3D),sol)"
      ],
      "metadata": {
        "colab": {
          "base_uri": "https://localhost:8080/",
          "height": 248
        },
        "id": "xGQQsokeNaeI",
        "outputId": "2e46f06c-e618-4c66-e5f8-1dffc006472f"
      },
      "execution_count": null,
      "outputs": [
        {
          "output_type": "display_data",
          "data": {
            "text/plain": [
              "<Figure size 432x288 with 1 Axes>"
            ],
            "image/png": "[encoded data removed]"
          },
          "metadata": {
            "needs_background": "light"
          }
        }
      ]
    }
  ]
}